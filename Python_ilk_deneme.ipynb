{
  "nbformat": 4,
  "nbformat_minor": 0,
  "metadata": {
    "colab": {
      "provenance": [],
      "authorship_tag": "ABX9TyOrYClhd86nDeW40X71E4so",
      "include_colab_link": true
    },
    "kernelspec": {
      "name": "python3",
      "display_name": "Python 3"
    },
    "language_info": {
      "name": "python"
    }
  },
  "cells": [
    {
      "cell_type": "markdown",
      "metadata": {
        "id": "view-in-github",
        "colab_type": "text"
      },
      "source": [
        "<a href=\"https://colab.research.google.com/github/tubay93/myproject/blob/main/Python_ilk_deneme.ipynb\" target=\"_parent\"><img src=\"https://colab.research.google.com/assets/colab-badge.svg\" alt=\"Open In Colab\"/></a>"
      ]
    },
    {
      "cell_type": "code",
      "execution_count": null,
      "metadata": {
        "colab": {
          "base_uri": "https://localhost:8080/"
        },
        "id": "5MT-10DEbSro",
        "outputId": "3dcab0ea-ae4e-4f47-f12a-f2b8c95d4cbf"
      },
      "outputs": [
        {
          "output_type": "stream",
          "name": "stdout",
          "text": [
            "Merhaba, İGÜ-İSTKA!\n"
          ]
        }
      ],
      "source": [
        "print(\"Merhaba, İGÜ-İSTKA!\")"
      ]
    },
    {
      "cell_type": "markdown",
      "source": [
        "Python programlama dilinde print komutu ekrandan kullanıcıya bilgi veren bir koddur. 06.08.2024- Veri Yapıları ve Algoritmalar dersi ilk kodlama çıktısıdır. İGÜ İSTKA SİBER AKADEMİ MERKEZİ"
      ],
      "metadata": {
        "id": "TYC_MC8kf1EQ"
      }
    },
    {
      "cell_type": "code",
      "source": [
        "import sys #python programa dilinde yazılıma kütüphane eklemeye yarayan bir koddur.\n",
        "print(sys.version)"
      ],
      "metadata": {
        "colab": {
          "base_uri": "https://localhost:8080/"
        },
        "id": "HqzbC6VhgLGc",
        "outputId": "cd271f33-1a79-4ff8-ac5c-65e87e6139b4"
      },
      "execution_count": null,
      "outputs": [
        {
          "output_type": "stream",
          "name": "stdout",
          "text": [
            "3.10.12 (main, Jul 29 2024, 16:56:48) [GCC 11.4.0]\n"
          ]
        }
      ]
    },
    {
      "cell_type": "code",
      "source": [
        "from google.colab import drive #google colab-drive bağlantısı\n",
        "drive.mount('/content/drive')"
      ],
      "metadata": {
        "colab": {
          "base_uri": "https://localhost:8080/"
        },
        "id": "uLWmdN6xgpYt",
        "outputId": "6ae3344f-28e4-4e38-88b3-d7a608369709"
      },
      "execution_count": null,
      "outputs": [
        {
          "output_type": "stream",
          "name": "stdout",
          "text": [
            "Mounted at /content/drive\n"
          ]
        }
      ]
    },
    {
      "cell_type": "code",
      "source": [
        "import os #os kütüphanesi\n",
        "os.chdir ('/content/drive/My Drive/VERIYAPILARI_ISTKA')\n",
        "!pwd #bize kodun çıktısını dosya yolu olarak veren kod blogudur"
      ],
      "metadata": {
        "colab": {
          "base_uri": "https://localhost:8080/"
        },
        "id": "-GAYrywGhSwE",
        "outputId": "9bbc35b3-097f-42e3-b26f-f5ddba561d16"
      },
      "execution_count": null,
      "outputs": [
        {
          "output_type": "stream",
          "name": "stdout",
          "text": [
            "/content/drive/My Drive/VERIYAPILARI_ISTKA\n"
          ]
        }
      ]
    }
  ]
}