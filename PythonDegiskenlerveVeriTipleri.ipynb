{
  "nbformat": 4,
  "nbformat_minor": 0,
  "metadata": {
    "colab": {
      "provenance": [],
      "authorship_tag": "ABX9TyMe3n1zZH+5VOYWs5sxykiv",
      "include_colab_link": true
    },
    "kernelspec": {
      "name": "python3",
      "display_name": "Python 3"
    },
    "language_info": {
      "name": "python"
    }
  },
  "cells": [
    {
      "cell_type": "markdown",
      "metadata": {
        "id": "view-in-github",
        "colab_type": "text"
      },
      "source": [
        "<a href=\"https://colab.research.google.com/github/tubay93/myproject/blob/main/PythonDegiskenlerveVeriTipleri.ipynb\" target=\"_parent\"><img src=\"https://colab.research.google.com/assets/colab-badge.svg\" alt=\"Open In Colab\"/></a>"
      ]
    },
    {
      "cell_type": "markdown",
      "source": [
        "VERİ YAPILARI VE TİPLERİ\n"
      ],
      "metadata": {
        "id": "JUdAgRw0_bmj"
      }
    },
    {
      "cell_type": "code",
      "source": [
        "#veri yapıları:veriler organize edilirken ve saklanırken türlerini tanımlar.\n"
      ],
      "metadata": {
        "id": "6Zt4I1mw_nTf"
      },
      "execution_count": null,
      "outputs": []
    },
    {
      "cell_type": "markdown",
      "source": [
        "***VERİ TİPLERİ***\n",
        "\n",
        "**İnteger**:sayı-tamsayı          **Float()**:ondalıklı-küsüratlı sayıya çevirme\n",
        "**String:**metinsel içerik                      **Boolean:**true-false\n",
        "**Tuple**:demet tanımlaması             **List:**liste tanımlaması  **Set**:küme tanımlaması\n",
        "**Dictionary**:sözlük tanımlaması           **type():**değişkenin türünü verir\n",
        "**int()**:tam sayıya çevirme\n",
        "\n",
        "**DEĞİŞKEN İSİMLENDİRME>** boşluk yok, türkçe ve özel karakter yok, büyük/küçük harf duyarlılığı var"
      ],
      "metadata": {
        "id": "Q-QIlAM7AMz3"
      }
    },
    {
      "cell_type": "code",
      "source": [
        "degisken_1=10       #geçerli degiskenler\n",
        "degisken2=20\n",
        "_degisken3=30"
      ],
      "metadata": {
        "id": "f5QwfmdmC0S6"
      },
      "execution_count": null,
      "outputs": []
    },
    {
      "cell_type": "code",
      "source": [
        "x=5\n",
        "y=\"Merhaba Dünya\"            #değişken tanımlama\n",
        "print(x)\n",
        "print(y)"
      ],
      "metadata": {
        "colab": {
          "base_uri": "https://localhost:8080/"
        },
        "id": "kUGk0phvDNPt",
        "outputId": "35f894a9-61d7-484c-a9b6-a0a26f357703"
      },
      "execution_count": null,
      "outputs": [
        {
          "output_type": "stream",
          "name": "stdout",
          "text": [
            "5\n",
            "Merhaba Dünya\n"
          ]
        }
      ]
    },
    {
      "cell_type": "code",
      "source": [
        "                                              #integer-tamsayı tanımlama\n",
        "a=10\n",
        "print(type(a))"
      ],
      "metadata": {
        "colab": {
          "base_uri": "https://localhost:8080/"
        },
        "id": "OInCQfD0DcHY",
        "outputId": "e350d339-9cad-4160-e5c1-d02aa945cee7"
      },
      "execution_count": null,
      "outputs": [
        {
          "output_type": "stream",
          "name": "stdout",
          "text": [
            "<class 'int'>\n"
          ]
        }
      ]
    },
    {
      "cell_type": "code",
      "source": [
        "b=20.5                                                             #float-ondalıklı sayı tanımlama\n",
        "print(type(b))"
      ],
      "metadata": {
        "colab": {
          "base_uri": "https://localhost:8080/"
        },
        "id": "FDiKI9StE2bi",
        "outputId": "5de7050b-9a6d-430a-fcba-4dd77a922f6a"
      },
      "execution_count": null,
      "outputs": [
        {
          "output_type": "stream",
          "name": "stdout",
          "text": [
            "<class 'float'>\n"
          ]
        }
      ]
    },
    {
      "cell_type": "code",
      "source": [
        "x=10                                                            #int'ten float'a çevirme\n",
        "y=float(x)\n",
        "print(y, type(y))"
      ],
      "metadata": {
        "colab": {
          "base_uri": "https://localhost:8080/"
        },
        "id": "eISLCIp5FGhE",
        "outputId": "8cf9ab69-07b8-4636-bddd-8c7fa6df6b52"
      },
      "execution_count": null,
      "outputs": [
        {
          "output_type": "stream",
          "name": "stdout",
          "text": [
            "10.0 <class 'float'>\n"
          ]
        }
      ]
    },
    {
      "cell_type": "code",
      "source": [
        "a=12.34                                                                   #float'tan int'e çevirme\n",
        "b=int(a)\n",
        "print(b, type(b))"
      ],
      "metadata": {
        "colab": {
          "base_uri": "https://localhost:8080/"
        },
        "id": "jDXSJ0e_Fjm3",
        "outputId": "239df296-3b88-43c0-ceb7-1064700d20a4"
      },
      "execution_count": null,
      "outputs": [
        {
          "output_type": "stream",
          "name": "stdout",
          "text": [
            "12 <class 'int'>\n"
          ]
        }
      ]
    },
    {
      "cell_type": "code",
      "source": [
        "c=\"Python Programlama \"                                    #String-Metinsel İçerik Tanımlama\n",
        "print(type(c))"
      ],
      "metadata": {
        "colab": {
          "base_uri": "https://localhost:8080/"
        },
        "id": "b8XFhnBFF8i9",
        "outputId": "d88a065e-ffe2-4ac1-ad41-3b8193d96c62"
      },
      "execution_count": null,
      "outputs": [
        {
          "output_type": "stream",
          "name": "stdout",
          "text": [
            "<class 'str'>\n"
          ]
        }
      ]
    },
    {
      "cell_type": "code",
      "source": [
        "d=True                                                        #Boolean (True-False)-Doğru-Yanlış Tanımlama\n",
        "e=False\n",
        "print(d, type(e))"
      ],
      "metadata": {
        "colab": {
          "base_uri": "https://localhost:8080/"
        },
        "id": "iJdlY4ydGSeI",
        "outputId": "960fba3c-0a22-42d5-f5fe-6818b2ac5d2e"
      },
      "execution_count": null,
      "outputs": [
        {
          "output_type": "stream",
          "name": "stdout",
          "text": [
            "True <class 'bool'>\n"
          ]
        }
      ]
    },
    {
      "cell_type": "code",
      "source": [
        "my_list=[1,2,3,4,5]                                          #List-Liste Tanımlama\n",
        "print(my_list, type(my_list))"
      ],
      "metadata": {
        "colab": {
          "base_uri": "https://localhost:8080/"
        },
        "id": "ftGGanuFHDN0",
        "outputId": "192c6fe2-7f5c-4a66-bb0e-f389a88e6f7e"
      },
      "execution_count": null,
      "outputs": [
        {
          "output_type": "stream",
          "name": "stdout",
          "text": [
            "[1, 2, 3, 4, 5] <class 'list'>\n"
          ]
        }
      ]
    },
    {
      "cell_type": "code",
      "source": [
        "my_tuple=(1,2,3,4,5)                                     #Tuple-Demet Tanımlama\n",
        "print(my_tuple, type(my_tuple))"
      ],
      "metadata": {
        "colab": {
          "base_uri": "https://localhost:8080/"
        },
        "id": "6vFPkjXHHngz",
        "outputId": "479e17c4-5671-4547-b7a5-e7e9408d7824"
      },
      "execution_count": null,
      "outputs": [
        {
          "output_type": "stream",
          "name": "stdout",
          "text": [
            "(1, 2, 3, 4, 5) <class 'tuple'>\n"
          ]
        }
      ]
    },
    {
      "cell_type": "code",
      "source": [
        "notlar={\"Ali\":85, \"Veli\":90, \"Ayşe\":78}     #Dictionay-Sözlük Örneği\n",
        "print(notlar)"
      ],
      "metadata": {
        "colab": {
          "base_uri": "https://localhost:8080/"
        },
        "id": "nJ4ZN1S05FkZ",
        "outputId": "0606e1f8-2377-4cfd-a818-d5cfcf2aa875"
      },
      "execution_count": null,
      "outputs": [
        {
          "output_type": "stream",
          "name": "stdout",
          "text": [
            "{'Ali': 85, 'Veli': 90, 'Ayşe': 78}\n"
          ]
        }
      ]
    },
    {
      "cell_type": "code",
      "source": [
        "notlar[\"Fatma\"]=92                              #sözlük ekleme ve güncelleme\n",
        "notlar[\"Ali\"]=88\n",
        "print(notlar)"
      ],
      "metadata": {
        "colab": {
          "base_uri": "https://localhost:8080/"
        },
        "id": "aRxLZVgHWqkc",
        "outputId": "3f852b69-66af-4a7e-f075-05cac5d4ef55"
      },
      "execution_count": null,
      "outputs": [
        {
          "output_type": "stream",
          "name": "stdout",
          "text": [
            "{'Ali': 88, 'Veli': 90, 'Ayşe': 78, 'Fatma': 92}\n"
          ]
        }
      ]
    },
    {
      "cell_type": "code",
      "source": [
        "print(notlar.keys())"
      ],
      "metadata": {
        "colab": {
          "base_uri": "https://localhost:8080/"
        },
        "id": "RUs0yXIJXJhA",
        "outputId": "347fca05-b735-4350-ba9d-e61342bcda3c"
      },
      "execution_count": null,
      "outputs": [
        {
          "output_type": "stream",
          "name": "stdout",
          "text": [
            "dict_keys(['Ali', 'Veli', 'Ayşe', 'Fatma'])\n"
          ]
        }
      ]
    },
    {
      "cell_type": "code",
      "source": [
        "print(notlar.values())"
      ],
      "metadata": {
        "colab": {
          "base_uri": "https://localhost:8080/"
        },
        "id": "JTas76cXX1f5",
        "outputId": "5ffc8b7b-6054-4d28-fc07-050355a05bc5"
      },
      "execution_count": null,
      "outputs": [
        {
          "output_type": "stream",
          "name": "stdout",
          "text": [
            "dict_values([88, 90, 78, 92])\n"
          ]
        }
      ]
    },
    {
      "cell_type": "code",
      "source": [
        "print(notlar.items())"
      ],
      "metadata": {
        "colab": {
          "base_uri": "https://localhost:8080/"
        },
        "id": "WNE1GsZHX97O",
        "outputId": "718c7eb7-bdb8-4dad-8927-2d53ce40ffa0"
      },
      "execution_count": null,
      "outputs": [
        {
          "output_type": "stream",
          "name": "stdout",
          "text": [
            "dict_items([('Ali', 88), ('Veli', 90), ('Ayşe', 78), ('Fatma', 92)])\n"
          ]
        }
      ]
    },
    {
      "cell_type": "code",
      "source": [
        "kodyazanlar={\"Ahmet\", \"Mehmet\", \"Ayşe\"}            #Set-Küme Örneği; yazılım etkinliğine katılan öğrencilerin kümesi\n",
        "kodyazmayanlar={\"Ayşe\", \"Fatma\", \"Veli\"}                  #intersection:iki kümenin kesişimi     kafasına göre takılan öğrenciler\n",
        "ortak=kodyazanlar.intersection(kodyazmayanlar)\n",
        "print(ortak)"
      ],
      "metadata": {
        "colab": {
          "base_uri": "https://localhost:8080/"
        },
        "id": "bup-ZfKnYgkW",
        "outputId": "84374b67-d39c-4b30-929d-0556b4c2ac33"
      },
      "execution_count": null,
      "outputs": [
        {
          "output_type": "stream",
          "name": "stdout",
          "text": [
            "{'Ayşe'}\n"
          ]
        }
      ]
    },
    {
      "cell_type": "code",
      "source": [
        "Kod_yazmayan=kodyazmayanlar.difference(kodyazanlar)       #difference;iki küme farkını verir\n",
        "print(Kod_yazmayan)"
      ],
      "metadata": {
        "colab": {
          "base_uri": "https://localhost:8080/"
        },
        "id": "S9Yq_L03abv-",
        "outputId": "7bf04219-bf7d-40fc-ef8e-d6fc6445a65e"
      },
      "execution_count": null,
      "outputs": [
        {
          "output_type": "stream",
          "name": "stdout",
          "text": [
            "{'Veli', 'Fatma'}\n"
          ]
        }
      ]
    },
    {
      "cell_type": "code",
      "source": [
        "imza_listesi=kodyazanlar.union(kodyazmayanlar)                #Öğrenci İmza Listesi\n",
        "print(imza_listesi)                                           #union() iki küme birleşimi"
      ],
      "metadata": {
        "colab": {
          "base_uri": "https://localhost:8080/"
        },
        "id": "jsnbugQ-b-ZH",
        "outputId": "02eaf50d-a7a7-4fb5-d625-1dbe439c99e8"
      },
      "execution_count": null,
      "outputs": [
        {
          "output_type": "stream",
          "name": "stdout",
          "text": [
            "{'Veli', 'Ahmet', 'Ayşe', 'Mehmet', 'Fatma'}\n"
          ]
        }
      ]
    }
  ]
}