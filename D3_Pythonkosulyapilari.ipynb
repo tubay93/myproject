{
  "nbformat": 4,
  "nbformat_minor": 0,
  "metadata": {
    "colab": {
      "provenance": [],
      "authorship_tag": "ABX9TyOwm1/7OBjBfvNmDnAkDMV6",
      "include_colab_link": true
    },
    "kernelspec": {
      "name": "python3",
      "display_name": "Python 3"
    },
    "language_info": {
      "name": "python"
    }
  },
  "cells": [
    {
      "cell_type": "markdown",
      "metadata": {
        "id": "view-in-github",
        "colab_type": "text"
      },
      "source": [
        "<a href=\"https://colab.research.google.com/github/tubay93/myproject/blob/main/D3_Pythonkosulyapilari.ipynb\" target=\"_parent\"><img src=\"https://colab.research.google.com/assets/colab-badge.svg\" alt=\"Open In Colab\"/></a>"
      ]
    },
    {
      "cell_type": "markdown",
      "source": [
        "**PYTHON KOŞUL YAPILARI:if;** belirtilen şart doğruysa (true) bir bloğun çalıştırılmasını sağlar. **if-else;**if sağlanmazsa else bloğu çalıştırılır. **if-elif-else**;birden fazla koşul kontrol etmek için elif kullanılır. ilk koşul doğru bulunana kadar kontrol devam eder.hiçbiri doğru değilse else bloğu çalıştırılır.\n",
        "\n",
        "\n"
      ],
      "metadata": {
        "id": "n0w73f4EZuUK"
      }
    },
    {
      "cell_type": "code",
      "execution_count": 9,
      "metadata": {
        "colab": {
          "base_uri": "https://localhost:8080/"
        },
        "id": "5Z_Ajj5UWiBm",
        "outputId": "cec4fbb8-ca5b-4995-e6b9-da85a8994d5c"
      },
      "outputs": [
        {
          "output_type": "stream",
          "name": "stdout",
          "text": [
            "x, 5'ten büyüktür.\n"
          ]
        }
      ],
      "source": [
        "#if koşul yapısı\n",
        "x=10\n",
        "if x>5:\n",
        "   print(\"x, 5'ten büyüktür.\")"
      ]
    },
    {
      "cell_type": "code",
      "source": [
        "#if-else koşul yapısı\n",
        "x=3\n",
        "if x>5:\n",
        "   print(\"x, 5'ten büyüktür\")\n",
        "else:\n",
        "   print(\"x, 5'ten küçüktür veya eşittir\")"
      ],
      "metadata": {
        "colab": {
          "base_uri": "https://localhost:8080/"
        },
        "id": "A7n1DPIgX-Cz",
        "outputId": "1d445ad1-38aa-4254-9302-1cca33b36a40"
      },
      "execution_count": 10,
      "outputs": [
        {
          "output_type": "stream",
          "name": "stdout",
          "text": [
            "x, 5'ten küçüktür veya eşittir\n"
          ]
        }
      ]
    },
    {
      "cell_type": "code",
      "source": [
        "#if-elif-else koşul yapısı\n",
        "x=8\n",
        "if x>10:\n",
        "  print(\"x, 10'dan büyüktür\")\n",
        "elif x>5:\n",
        "   print(\"x, 5'ten büyüktür ama 10'dan küçük veya eşittir\")\n",
        "else:\n",
        "  print(\"x, 10'dan küçük veya eşittir\")"
      ],
      "metadata": {
        "colab": {
          "base_uri": "https://localhost:8080/"
        },
        "id": "j_jlTtQRYsMO",
        "outputId": "b6b47ff8-ef03-4f8a-8b13-2cc6cd286efb"
      },
      "execution_count": 12,
      "outputs": [
        {
          "output_type": "stream",
          "name": "stdout",
          "text": [
            "x, 5'ten büyüktür ama 10'dan küçük veya eşittir\n"
          ]
        }
      ]
    },
    {
      "cell_type": "code",
      "source": [
        "#iç içe koşul yapısı\n",
        "x=12\n",
        "y=8\n",
        "if x>10:\n",
        " if y>5:\n",
        "  print(\"x,10'dan büyük ve y, 5'ten büyüktür. \")\n",
        " else:\n",
        "  print(\"x,10'dan büyük ama y,5'ten küçük veya eşittir.\")\n",
        "else:\n",
        "  print(\"x, 10'dan küçük veya eşittir.\")"
      ],
      "metadata": {
        "colab": {
          "base_uri": "https://localhost:8080/"
        },
        "id": "PNGnLXZ_Zodp",
        "outputId": "d9273c96-0d6c-4fec-c15e-e96fd7342306"
      },
      "execution_count": 21,
      "outputs": [
        {
          "output_type": "stream",
          "name": "stdout",
          "text": [
            "x,10'dan büyük ve y, 5'ten büyüktür. \n"
          ]
        }
      ]
    },
    {
      "cell_type": "code",
      "source": [
        "#Mantıksal Operatorler ile Koşullar\n",
        "x=7\n",
        "y=3                                                       #\"and\" operatörü ile\n",
        "if x>5 and y>2:\n",
        "    print(\"x, 5'ten büyüktür ve y, 2'den büyüktür.\")"
      ],
      "metadata": {
        "colab": {
          "base_uri": "https://localhost:8080/"
        },
        "id": "H0wNFniLcZeM",
        "outputId": "05b00594-c9f3-4c6f-c00c-851a4d5dbd5e"
      },
      "execution_count": 24,
      "outputs": [
        {
          "output_type": "stream",
          "name": "stdout",
          "text": [
            "x, 5'ten büyüktür ve y, 2'den büyüktür.\n"
          ]
        }
      ]
    },
    {
      "cell_type": "code",
      "source": [
        "if x>5 or y>5:\n",
        "  print(\"x veya y, 5'ten büyüktür.\")                      #\"or\" Operatörü ile"
      ],
      "metadata": {
        "colab": {
          "base_uri": "https://localhost:8080/"
        },
        "id": "RMm-gJVNdBaM",
        "outputId": "7af88280-d993-411a-c64c-4917afe5fed3"
      },
      "execution_count": 33,
      "outputs": [
        {
          "output_type": "stream",
          "name": "stdout",
          "text": [
            "x veya y, 5'ten büyüktür.\n"
          ]
        }
      ]
    },
    {
      "cell_type": "code",
      "source": [
        "if not (x>10):                                             #\"not\" operatörü ile\n",
        "  print(\"x, 10'dan büyük değildir.\")"
      ],
      "metadata": {
        "colab": {
          "base_uri": "https://localhost:8080/"
        },
        "id": "dgaivtbdda_9",
        "outputId": "b9faf802-e417-4c55-acd8-b4e24bb5e1a4"
      },
      "execution_count": 30,
      "outputs": [
        {
          "output_type": "stream",
          "name": "stdout",
          "text": [
            "x, 10'dan büyük değildir.\n"
          ]
        }
      ]
    },
    {
      "cell_type": "markdown",
      "source": [
        "KOŞUL YAPISI ÖRNEKLERİ"
      ],
      "metadata": {
        "id": "YWuzUEkGeAqK"
      }
    },
    {
      "cell_type": "code",
      "source": [
        "notu=85\n",
        "if notu >=90:\n",
        "  print(\"Harf Notu: A\")\n",
        "elif notu>=80:\n",
        "    print(\"Harf Notu:B\")\n",
        "elif notu>=70:\n",
        "      print(\"Harf Notu:C\")\n",
        "elif notu>=60:\n",
        "        print(\"Harf Notu:D\")\n",
        "else:\n",
        "              print(\"Harf Notu:F\")"
      ],
      "metadata": {
        "colab": {
          "base_uri": "https://localhost:8080/"
        },
        "id": "hOLe1S47d9jF",
        "outputId": "62d44a87-dcbc-4117-fd78-600a4ea6dc1b"
      },
      "execution_count": 47,
      "outputs": [
        {
          "output_type": "stream",
          "name": "stdout",
          "text": [
            "Harf Notu:B\n"
          ]
        }
      ]
    },
    {
      "cell_type": "code",
      "source": [
        "yas=20\n",
        "if yas<18:\n",
        "  print(\"Reşit Değilsiniz.\")\n",
        "elif yas<21:\n",
        "   print(\"Reşitsiniz ama İçecek Satın Alamazsınız.\")\n",
        "else:\n",
        "  print(\"İçecek Satın Alabilirsiniz.\")"
      ],
      "metadata": {
        "colab": {
          "base_uri": "https://localhost:8080/"
        },
        "id": "ldpSqKVxgLwm",
        "outputId": "5d3688e4-f5cd-4f13-eb89-1ef3a75a9d66"
      },
      "execution_count": 51,
      "outputs": [
        {
          "output_type": "stream",
          "name": "stdout",
          "text": [
            "Reşitsiniz ama İçecek Satın Alamazsınız.\n"
          ]
        }
      ]
    },
    {
      "cell_type": "code",
      "source": [
        "sayi=-5\n",
        "if sayi>0:\n",
        "  print(\"Sayı; pozitiftir.\")\n",
        "elif sayi<0:\n",
        "  print(\"Sayı; negatiftir.\")\n",
        "else:\n",
        "  print(\"Sayı; sıfırdır.\")"
      ],
      "metadata": {
        "colab": {
          "base_uri": "https://localhost:8080/"
        },
        "id": "3HPD8SWLg8Wd",
        "outputId": "c7564dbc-b98e-475d-bf38-05eeb8a0213e"
      },
      "execution_count": 53,
      "outputs": [
        {
          "output_type": "stream",
          "name": "stdout",
          "text": [
            "Sayı; negatiftir.\n"
          ]
        }
      ]
    }
  ]
}